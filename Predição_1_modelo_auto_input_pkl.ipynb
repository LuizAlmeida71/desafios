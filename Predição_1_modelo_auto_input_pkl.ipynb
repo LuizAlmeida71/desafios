{
 "cells": [
  {
   "cell_type": "markdown",
   "id": "7a3395d5",
   "metadata": {},
   "source": [
    "### Predição_1_modelo_auto_pkl\n",
    "\n",
    "Aqui vamos usar o modelo serializado em \"Automóveis_v1\""
   ]
  },
  {
   "cell_type": "code",
   "execution_count": 2,
   "id": "9d0cd2ef",
   "metadata": {},
   "outputs": [],
   "source": [
    "import pandas as pd"
   ]
  },
  {
   "cell_type": "code",
   "execution_count": 5,
   "id": "e73e39c3",
   "metadata": {},
   "outputs": [],
   "source": [
    "model = pd.read_pickle(\"model_auto.pkl\")"
   ]
  },
  {
   "cell_type": "code",
   "execution_count": 8,
   "id": "bd62e3a6",
   "metadata": {},
   "outputs": [
    {
     "data": {
      "text/plain": [
       "['cylinders',\n",
       " 'displacement',\n",
       " 'horsepower',\n",
       " 'weight',\n",
       " 'acceleration',\n",
       " 'year',\n",
       " 'origin']"
      ]
     },
     "execution_count": 8,
     "metadata": {},
     "output_type": "execute_result"
    }
   ],
   "source": [
    "# Montar uma entrada de dados para testar o modelo\n",
    "\n",
    "model[\"uni_features\"]"
   ]
  },
  {
   "cell_type": "code",
   "execution_count": 28,
   "id": "53de1657",
   "metadata": {},
   "outputs": [
    {
     "name": "stdout",
     "output_type": "stream",
     "text": [
      "entre com 'cylinders':4\n",
      "entre com 'displacement':312\n",
      "entre com 'horsepower':147\n",
      "entre com 'weight':3329\n",
      "entre com 'acceleration':11.7\n",
      "entre com 'year':73\n",
      "entre com 'origin':1\n"
     ]
    }
   ],
   "source": [
    "cylinders = (input(\"entre com 'cylinders':\"))\n",
    "displacement = (input(\"entre com 'displacement':\"))\n",
    "horsepower = (input(\"entre com 'horsepower':\"))\n",
    "weight = (input(\"entre com 'weight':\"))\n",
    "acceleration = (input(\"entre com 'acceleration':\"))\n",
    "year = (input(\"entre com 'year':\"))\n",
    "origin = input(\"entre com 'origin':\")"
   ]
  },
  {
   "cell_type": "code",
   "execution_count": 29,
   "id": "649ff2a2",
   "metadata": {},
   "outputs": [],
   "source": [
    "df_predict = pd.DataFrame({\"cylinders\" : [cylinders],  \n",
    "                           \"displacement\" : [displacement],  \n",
    "                           \"horsepower\" : [horsepower],\n",
    "                           \"weight\" : [weight],\n",
    "                           \"acceleration\" : [acceleration],\n",
    "                           \"year\" : [year],\n",
    "                           \"origin\" : [origin]})\n",
    "\n",
    "df_predict[model[\"num_features\"]] = df_predict[model[\"num_features\"]].astype(float)\n",
    "df_predict[model[\"cat_features\"]] = df_predict[model[\"cat_features\"]].astype(str)\n",
    "\n",
    "df_predict = df_predict[model[\"uni_features\"]]"
   ]
  },
  {
   "cell_type": "code",
   "execution_count": 30,
   "id": "9c44a98f",
   "metadata": {},
   "outputs": [
    {
     "data": {
      "text/plain": [
       "array([18.12951177])"
      ]
     },
     "execution_count": 30,
     "metadata": {},
     "output_type": "execute_result"
    }
   ],
   "source": [
    "model[\"modelo\"].predict(df_predict[model[\"uni_features\"]])"
   ]
  }
 ],
 "metadata": {
  "kernelspec": {
   "display_name": "Python 3",
   "language": "python",
   "name": "python3"
  },
  "language_info": {
   "codemirror_mode": {
    "name": "ipython",
    "version": 3
   },
   "file_extension": ".py",
   "mimetype": "text/x-python",
   "name": "python",
   "nbconvert_exporter": "python",
   "pygments_lexer": "ipython3",
   "version": "3.8.8"
  }
 },
 "nbformat": 4,
 "nbformat_minor": 5
}
