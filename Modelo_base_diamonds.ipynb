{
 "cells": [
  {
   "cell_type": "markdown",
   "id": "e252bb34",
   "metadata": {},
   "source": [
    "### Criando modelo usando a base de dados Diamonds"
   ]
  },
  {
   "cell_type": "code",
   "execution_count": 115,
   "id": "ffc2e3e2",
   "metadata": {},
   "outputs": [],
   "source": [
    "# Só consegui importar scikitplot depois de instalar pelo pip, conforme abaixo\n",
    "#pip install scikit-plot"
   ]
  },
  {
   "cell_type": "code",
   "execution_count": 114,
   "id": "589ea9d9",
   "metadata": {},
   "outputs": [],
   "source": [
    "import itertools                    # pacote para criar combinações de variáveis\n",
    "import pandas as pd                 # pacote pandas\n",
    "import matplotlib.pyplot as plt\n",
    "import scikitplot as skplt\n",
    "\n",
    "from sklearn import model_selection # importando pacote para sample\n",
    "from sklearn import pipeline\n",
    "from sklearn import ensemble\n",
    "from sklearn import linear_model\n",
    "from sklearn import tree\n",
    "from sklearn import decomposition\n",
    "from sklearn import metrics\n",
    "\n",
    "from feature_engine import encoding\n",
    "from feature_engine import transformation"
   ]
  },
  {
   "cell_type": "code",
   "execution_count": 4,
   "id": "936885c3",
   "metadata": {},
   "outputs": [
    {
     "data": {
      "text/html": [
       "<div>\n",
       "<style scoped>\n",
       "    .dataframe tbody tr th:only-of-type {\n",
       "        vertical-align: middle;\n",
       "    }\n",
       "\n",
       "    .dataframe tbody tr th {\n",
       "        vertical-align: top;\n",
       "    }\n",
       "\n",
       "    .dataframe thead th {\n",
       "        text-align: right;\n",
       "    }\n",
       "</style>\n",
       "<table border=\"1\" class=\"dataframe\">\n",
       "  <thead>\n",
       "    <tr style=\"text-align: right;\">\n",
       "      <th></th>\n",
       "      <th>carat</th>\n",
       "      <th>cut</th>\n",
       "      <th>color</th>\n",
       "      <th>clarity</th>\n",
       "      <th>depth</th>\n",
       "      <th>table</th>\n",
       "      <th>price</th>\n",
       "      <th>x</th>\n",
       "      <th>y</th>\n",
       "      <th>z</th>\n",
       "    </tr>\n",
       "  </thead>\n",
       "  <tbody>\n",
       "    <tr>\n",
       "      <th>0</th>\n",
       "      <td>0.23</td>\n",
       "      <td>Ideal</td>\n",
       "      <td>E</td>\n",
       "      <td>SI2</td>\n",
       "      <td>61.5</td>\n",
       "      <td>55.0</td>\n",
       "      <td>326</td>\n",
       "      <td>3.95</td>\n",
       "      <td>3.98</td>\n",
       "      <td>2.43</td>\n",
       "    </tr>\n",
       "    <tr>\n",
       "      <th>1</th>\n",
       "      <td>0.21</td>\n",
       "      <td>Premium</td>\n",
       "      <td>E</td>\n",
       "      <td>SI1</td>\n",
       "      <td>59.8</td>\n",
       "      <td>61.0</td>\n",
       "      <td>326</td>\n",
       "      <td>3.89</td>\n",
       "      <td>3.84</td>\n",
       "      <td>2.31</td>\n",
       "    </tr>\n",
       "    <tr>\n",
       "      <th>2</th>\n",
       "      <td>0.23</td>\n",
       "      <td>Good</td>\n",
       "      <td>E</td>\n",
       "      <td>VS1</td>\n",
       "      <td>56.9</td>\n",
       "      <td>65.0</td>\n",
       "      <td>327</td>\n",
       "      <td>4.05</td>\n",
       "      <td>4.07</td>\n",
       "      <td>2.31</td>\n",
       "    </tr>\n",
       "    <tr>\n",
       "      <th>3</th>\n",
       "      <td>0.29</td>\n",
       "      <td>Premium</td>\n",
       "      <td>I</td>\n",
       "      <td>VS2</td>\n",
       "      <td>62.4</td>\n",
       "      <td>58.0</td>\n",
       "      <td>334</td>\n",
       "      <td>4.20</td>\n",
       "      <td>4.23</td>\n",
       "      <td>2.63</td>\n",
       "    </tr>\n",
       "    <tr>\n",
       "      <th>4</th>\n",
       "      <td>0.31</td>\n",
       "      <td>Good</td>\n",
       "      <td>J</td>\n",
       "      <td>SI2</td>\n",
       "      <td>63.3</td>\n",
       "      <td>58.0</td>\n",
       "      <td>335</td>\n",
       "      <td>4.34</td>\n",
       "      <td>4.35</td>\n",
       "      <td>2.75</td>\n",
       "    </tr>\n",
       "  </tbody>\n",
       "</table>\n",
       "</div>"
      ],
      "text/plain": [
       "   carat      cut color clarity  depth  table  price     x     y     z\n",
       "0   0.23    Ideal     E     SI2   61.5   55.0    326  3.95  3.98  2.43\n",
       "1   0.21  Premium     E     SI1   59.8   61.0    326  3.89  3.84  2.31\n",
       "2   0.23     Good     E     VS1   56.9   65.0    327  4.05  4.07  2.31\n",
       "3   0.29  Premium     I     VS2   62.4   58.0    334  4.20  4.23  2.63\n",
       "4   0.31     Good     J     SI2   63.3   58.0    335  4.34  4.35  2.75"
      ]
     },
     "execution_count": 4,
     "metadata": {},
     "output_type": "execute_result"
    }
   ],
   "source": [
    "# Importando a base de dados\n",
    "\n",
    "df = pd.read_excel(\"dinamonds.xlsx\")\n",
    "df.head()"
   ]
  },
  {
   "cell_type": "code",
   "execution_count": 21,
   "id": "0e71c88a",
   "metadata": {},
   "outputs": [
    {
     "data": {
      "text/plain": [
       "['color', 'clarity']"
      ]
     },
     "execution_count": 21,
     "metadata": {},
     "output_type": "execute_result"
    }
   ],
   "source": [
    "# Selecionando variáveis categóricas\n",
    "# Mostrando passo a passo como selecionar as variáveis\n",
    "\n",
    "df.dtypes                                       # 1 mostra todas as variáveis e os tipos.\n",
    "df.dtypes == \"object\"                           # 2 mostra as variáveis que são categóricas.\n",
    "df.dtypes[df.dtypes == \"object\"]                # 3 selecionado somente as variáveis categóricas.\n",
    "df.dtypes[df.dtypes == \"object\"].index          # 4 cria indices para os elementos.\n",
    "df.dtypes[df.dtypes == \"object\"].index.tolist() # 5 transforma os índices em uma lista.\n",
    "\n",
    "cat_features = df.dtypes[df.dtypes == \"object\"].index.tolist() # Aqui portanto temos todas as variáveis categóricas\n",
    "cat_features.remove(\"cut\") # retirar a variável \"cut\", pois ela é a variável target\n",
    "cat_features"
   ]
  },
  {
   "cell_type": "code",
   "execution_count": 22,
   "id": "272e25f0",
   "metadata": {},
   "outputs": [
    {
     "data": {
      "text/plain": [
       "'cut'"
      ]
     },
     "execution_count": 22,
     "metadata": {},
     "output_type": "execute_result"
    }
   ],
   "source": [
    "# Selecionando a variável target.\n",
    "\n",
    "target = \"cut\"\n",
    "target"
   ]
  },
  {
   "cell_type": "code",
   "execution_count": 24,
   "id": "1116664f",
   "metadata": {},
   "outputs": [
    {
     "data": {
      "text/plain": [
       "['color', 'clarity', 'carat', 'depth', 'table', 'price', 'x', 'y', 'z']"
      ]
     },
     "execution_count": 24,
     "metadata": {},
     "output_type": "execute_result"
    }
   ],
   "source": [
    "# Selecionando variáveis numéricas\n",
    "# vamos aproveitar o código que fizemos anteriomente e fazer uma pequena alteração. Ao invés de \"==\" vamos usar \"!=\" no\n",
    "# no final, atribuindo o resultado aa variável num_features.\n",
    "\n",
    "num_features = df.dtypes[df.dtypes != \"object\"].index.tolist()\n",
    "num_features\n",
    "\n",
    "# para facilitar na próxima fase,sample, vamos criar uma variável única para juntar as variáveis numéricas e categóricas\n",
    "\n",
    "features = cat_features + num_features\n",
    "features"
   ]
  },
  {
   "cell_type": "markdown",
   "id": "39ae8d78",
   "metadata": {},
   "source": [
    "### Sampling"
   ]
  },
  {
   "cell_type": "code",
   "execution_count": 25,
   "id": "7a8891cc",
   "metadata": {},
   "outputs": [],
   "source": [
    "x_train, x_test, y_train, y_test = model_selection.train_test_split(df[features],\n",
    "                                                                    df[target],\n",
    "                                                                    test_size = 0.8,\n",
    "                                                                    random_state = 42)"
   ]
  },
  {
   "cell_type": "markdown",
   "id": "e4ddbe3e",
   "metadata": {},
   "source": [
    "### Explore"
   ]
  },
  {
   "cell_type": "markdown",
   "id": "6333a107",
   "metadata": {},
   "source": [
    "### Modify"
   ]
  },
  {
   "cell_type": "code",
   "execution_count": 33,
   "id": "a71168f8",
   "metadata": {},
   "outputs": [],
   "source": [
    "# Criando onehot para mapear todos as possibilidades de dummies\n",
    "onehot = encoding.OneHotEncoder(variables=cat_features)\n",
    "\n",
    "# Criando combinações possiveis de variáveis para tunar modelo.\n",
    "variables_log = []\n",
    "for L in range(1, len(num_features)+1):\n",
    "    variables_log += [[list(i) for i in itertools.combinations(num_features,L)]]\n",
    "    \n",
    "log_transformation = transformation.LogTransformer()"
   ]
  },
  {
   "cell_type": "markdown",
   "id": "ca36af20",
   "metadata": {},
   "source": [
    "### Modeling"
   ]
  },
  {
   "cell_type": "code",
   "execution_count": 37,
   "id": "06c0ca6c",
   "metadata": {},
   "outputs": [],
   "source": [
    "### modelo random forest\n",
    "model_rf = ensemble.RandomForestClassifier()\n",
    "pca = decomposition.PCA()\n"
   ]
  },
  {
   "cell_type": "code",
   "execution_count": 38,
   "id": "ab18ff9b",
   "metadata": {},
   "outputs": [],
   "source": [
    "### montando o pipeline\n",
    "\n",
    "model_pipeline = pipeline.Pipeline([[\"onehot\",onehot],\n",
    "                                    [\"pca\",pca],\n",
    "                                    [\"model_RF\",model_rf]])"
   ]
  },
  {
   "cell_type": "code",
   "execution_count": 39,
   "id": "9bd6f38a",
   "metadata": {},
   "outputs": [
    {
     "data": {
      "text/plain": [
       "Pipeline(steps=[('onehot', OneHotEncoder(variables=['color', 'clarity'])),\n",
       "                ('pca', PCA()), ['model_RF', RandomForestClassifier()]])"
      ]
     },
     "execution_count": 39,
     "metadata": {},
     "output_type": "execute_result"
    }
   ],
   "source": [
    "model_pipeline.fit(x_train,y_train)"
   ]
  },
  {
   "cell_type": "code",
   "execution_count": 40,
   "id": "276d1d4b",
   "metadata": {},
   "outputs": [
    {
     "data": {
      "text/html": [
       "<div>\n",
       "<style scoped>\n",
       "    .dataframe tbody tr th:only-of-type {\n",
       "        vertical-align: middle;\n",
       "    }\n",
       "\n",
       "    .dataframe tbody tr th {\n",
       "        vertical-align: top;\n",
       "    }\n",
       "\n",
       "    .dataframe thead th {\n",
       "        text-align: right;\n",
       "    }\n",
       "</style>\n",
       "<table border=\"1\" class=\"dataframe\">\n",
       "  <thead>\n",
       "    <tr style=\"text-align: right;\">\n",
       "      <th></th>\n",
       "      <th>color</th>\n",
       "      <th>clarity</th>\n",
       "      <th>carat</th>\n",
       "      <th>depth</th>\n",
       "      <th>table</th>\n",
       "      <th>price</th>\n",
       "      <th>x</th>\n",
       "      <th>y</th>\n",
       "      <th>z</th>\n",
       "    </tr>\n",
       "  </thead>\n",
       "  <tbody>\n",
       "    <tr>\n",
       "      <th>46252</th>\n",
       "      <td>D</td>\n",
       "      <td>SI1</td>\n",
       "      <td>0.57</td>\n",
       "      <td>61.0</td>\n",
       "      <td>57.0</td>\n",
       "      <td>1754</td>\n",
       "      <td>5.31</td>\n",
       "      <td>5.34</td>\n",
       "      <td>3.25</td>\n",
       "    </tr>\n",
       "    <tr>\n",
       "      <th>17290</th>\n",
       "      <td>F</td>\n",
       "      <td>VS2</td>\n",
       "      <td>1.00</td>\n",
       "      <td>61.9</td>\n",
       "      <td>58.0</td>\n",
       "      <td>6927</td>\n",
       "      <td>6.41</td>\n",
       "      <td>6.49</td>\n",
       "      <td>3.99</td>\n",
       "    </tr>\n",
       "    <tr>\n",
       "      <th>41996</th>\n",
       "      <td>D</td>\n",
       "      <td>VS1</td>\n",
       "      <td>0.43</td>\n",
       "      <td>61.6</td>\n",
       "      <td>56.0</td>\n",
       "      <td>1264</td>\n",
       "      <td>4.86</td>\n",
       "      <td>4.85</td>\n",
       "      <td>2.99</td>\n",
       "    </tr>\n",
       "    <tr>\n",
       "      <th>50569</th>\n",
       "      <td>E</td>\n",
       "      <td>SI2</td>\n",
       "      <td>0.75</td>\n",
       "      <td>62.1</td>\n",
       "      <td>57.0</td>\n",
       "      <td>2278</td>\n",
       "      <td>5.81</td>\n",
       "      <td>5.85</td>\n",
       "      <td>3.62</td>\n",
       "    </tr>\n",
       "    <tr>\n",
       "      <th>760</th>\n",
       "      <td>F</td>\n",
       "      <td>SI1</td>\n",
       "      <td>0.81</td>\n",
       "      <td>61.7</td>\n",
       "      <td>57.0</td>\n",
       "      <td>2858</td>\n",
       "      <td>6.00</td>\n",
       "      <td>6.05</td>\n",
       "      <td>3.72</td>\n",
       "    </tr>\n",
       "    <tr>\n",
       "      <th>...</th>\n",
       "      <td>...</td>\n",
       "      <td>...</td>\n",
       "      <td>...</td>\n",
       "      <td>...</td>\n",
       "      <td>...</td>\n",
       "      <td>...</td>\n",
       "      <td>...</td>\n",
       "      <td>...</td>\n",
       "      <td>...</td>\n",
       "    </tr>\n",
       "    <tr>\n",
       "      <th>11284</th>\n",
       "      <td>I</td>\n",
       "      <td>VS2</td>\n",
       "      <td>1.05</td>\n",
       "      <td>62.4</td>\n",
       "      <td>59.0</td>\n",
       "      <td>4975</td>\n",
       "      <td>6.48</td>\n",
       "      <td>6.51</td>\n",
       "      <td>4.05</td>\n",
       "    </tr>\n",
       "    <tr>\n",
       "      <th>44732</th>\n",
       "      <td>D</td>\n",
       "      <td>VS1</td>\n",
       "      <td>0.47</td>\n",
       "      <td>61.0</td>\n",
       "      <td>55.0</td>\n",
       "      <td>1617</td>\n",
       "      <td>5.03</td>\n",
       "      <td>5.01</td>\n",
       "      <td>3.06</td>\n",
       "    </tr>\n",
       "    <tr>\n",
       "      <th>38158</th>\n",
       "      <td>F</td>\n",
       "      <td>IF</td>\n",
       "      <td>0.33</td>\n",
       "      <td>60.3</td>\n",
       "      <td>58.0</td>\n",
       "      <td>1014</td>\n",
       "      <td>4.49</td>\n",
       "      <td>4.46</td>\n",
       "      <td>2.70</td>\n",
       "    </tr>\n",
       "    <tr>\n",
       "      <th>860</th>\n",
       "      <td>J</td>\n",
       "      <td>SI1</td>\n",
       "      <td>0.90</td>\n",
       "      <td>62.8</td>\n",
       "      <td>59.0</td>\n",
       "      <td>2871</td>\n",
       "      <td>6.13</td>\n",
       "      <td>6.03</td>\n",
       "      <td>3.82</td>\n",
       "    </tr>\n",
       "    <tr>\n",
       "      <th>15795</th>\n",
       "      <td>F</td>\n",
       "      <td>SI1</td>\n",
       "      <td>1.14</td>\n",
       "      <td>60.4</td>\n",
       "      <td>58.0</td>\n",
       "      <td>6320</td>\n",
       "      <td>6.82</td>\n",
       "      <td>6.79</td>\n",
       "      <td>4.11</td>\n",
       "    </tr>\n",
       "  </tbody>\n",
       "</table>\n",
       "<p>10788 rows × 9 columns</p>\n",
       "</div>"
      ],
      "text/plain": [
       "      color clarity  carat  depth  table  price     x     y     z\n",
       "46252     D     SI1   0.57   61.0   57.0   1754  5.31  5.34  3.25\n",
       "17290     F     VS2   1.00   61.9   58.0   6927  6.41  6.49  3.99\n",
       "41996     D     VS1   0.43   61.6   56.0   1264  4.86  4.85  2.99\n",
       "50569     E     SI2   0.75   62.1   57.0   2278  5.81  5.85  3.62\n",
       "760       F     SI1   0.81   61.7   57.0   2858  6.00  6.05  3.72\n",
       "...     ...     ...    ...    ...    ...    ...   ...   ...   ...\n",
       "11284     I     VS2   1.05   62.4   59.0   4975  6.48  6.51  4.05\n",
       "44732     D     VS1   0.47   61.0   55.0   1617  5.03  5.01  3.06\n",
       "38158     F      IF   0.33   60.3   58.0   1014  4.49  4.46  2.70\n",
       "860       J     SI1   0.90   62.8   59.0   2871  6.13  6.03  3.82\n",
       "15795     F     SI1   1.14   60.4   58.0   6320  6.82  6.79  4.11\n",
       "\n",
       "[10788 rows x 9 columns]"
      ]
     },
     "execution_count": 40,
     "metadata": {},
     "output_type": "execute_result"
    }
   ],
   "source": [
    "# Analisando a situação da base de treino\n",
    "# base antes da transformação mostram as variáveis em sua forma natural\n",
    "x_train"
   ]
  },
  {
   "cell_type": "code",
   "execution_count": 43,
   "id": "bb178c9a",
   "metadata": {},
   "outputs": [
    {
     "data": {
      "text/plain": [
       "array([[-2.16483282e+03, -8.84873762e-02,  7.71377704e-01, ...,\n",
       "         1.74846525e-02,  1.44111261e-16, -1.70319712e-16],\n",
       "       [ 3.00816755e+03,  2.20315753e-01, -2.18531824e-01, ...,\n",
       "         3.73902056e-02,  5.33338331e-18, -1.76640465e-17],\n",
       "       [-2.65483314e+03, -1.22806735e+00,  5.43040006e-01, ...,\n",
       "        -7.01813448e-03,  3.30889589e-17, -2.67464227e-16],\n",
       "       ...,\n",
       "       [-2.90483322e+03,  1.03914394e+00,  1.24392224e+00, ...,\n",
       "        -2.10574238e-02,  1.70668266e-16, -6.56491279e-17],\n",
       "       [-1.04783226e+03,  1.27791884e+00, -1.55816282e+00, ...,\n",
       "        -7.72886334e-02,  3.66155866e-16, -1.42564137e-16],\n",
       "       [ 2.40116782e+03,  7.52256090e-01,  1.12486764e+00, ...,\n",
       "        -2.39614359e-02,  1.05375537e-17,  1.03766597e-16]])"
      ]
     },
     "execution_count": 43,
     "metadata": {},
     "output_type": "execute_result"
    }
   ],
   "source": [
    "# agora temos os valores das variáveis após a transformação \"onehot\", \"pca\"\n",
    "# temos agora componentes, uma combinação linear de outras.\n",
    "\n",
    "model_pipeline[:-1].transform(x_train)"
   ]
  },
  {
   "cell_type": "code",
   "execution_count": 50,
   "id": "73189fda",
   "metadata": {},
   "outputs": [
    {
     "data": {
      "text/plain": [
       "0     99.9999\n",
       "1      0.0000\n",
       "2      0.0000\n",
       "3      0.0000\n",
       "4      0.0000\n",
       "5      0.0000\n",
       "6      0.0000\n",
       "7      0.0000\n",
       "8      0.0000\n",
       "9      0.0000\n",
       "10     0.0000\n",
       "11     0.0000\n",
       "12     0.0000\n",
       "13     0.0000\n",
       "14     0.0000\n",
       "15     0.0000\n",
       "16     0.0000\n",
       "17     0.0000\n",
       "18     0.0000\n",
       "19     0.0000\n",
       "20     0.0000\n",
       "21     0.0000\n",
       "dtype: float64"
      ]
     },
     "execution_count": 50,
     "metadata": {},
     "output_type": "execute_result"
    }
   ],
   "source": [
    "# Verificando a capacidade de explicação dos componentes.\n",
    "# Podemos ver somente um componente explica 99,99% de todas as variáveis.\n",
    "# Isso significa que não precisamos usar todas as variáveis para montar o modelo.\n",
    "\n",
    "pd.Series(pca.explained_variance_ratio_).round(6)*100"
   ]
  },
  {
   "cell_type": "code",
   "execution_count": 53,
   "id": "e30a5f7f",
   "metadata": {},
   "outputs": [],
   "source": [
    "# Com base nessa nova informação referente a quantidade de variáveis, vamos retreinar o modelo.\n",
    "\n",
    "pca = decomposition.PCA(n_components = 2)\n",
    "\n",
    "model_rf = ensemble.RandomForestClassifier()\n",
    "\n",
    "model_pipeline = pipeline.Pipeline([[\"onehot\", onehot],\n",
    "                                    [\"pca\", pca],\n",
    "                                    [\"mode_RF\", model_rf]])"
   ]
  },
  {
   "cell_type": "code",
   "execution_count": 54,
   "id": "e58e455e",
   "metadata": {},
   "outputs": [
    {
     "data": {
      "text/plain": [
       "Pipeline(steps=[('onehot', OneHotEncoder(variables=['color', 'clarity'])),\n",
       "                ('pca', PCA(n_components=2)),\n",
       "                ['mode_RF', RandomForestClassifier()]])"
      ]
     },
     "execution_count": 54,
     "metadata": {},
     "output_type": "execute_result"
    }
   ],
   "source": [
    "# Retreinamento do modelo\n",
    "\n",
    "model_pipeline.fit(x_train, y_train)"
   ]
  },
  {
   "cell_type": "code",
   "execution_count": 56,
   "id": "c31a0c99",
   "metadata": {},
   "outputs": [
    {
     "data": {
      "text/plain": [
       "array([[-2.16483282e+03, -8.84873762e-02],\n",
       "       [ 3.00816755e+03,  2.20315753e-01],\n",
       "       [-2.65483314e+03, -1.22806735e+00],\n",
       "       ...,\n",
       "       [-2.90483322e+03,  1.03914394e+00],\n",
       "       [-1.04783226e+03,  1.27791884e+00],\n",
       "       [ 2.40116782e+03,  7.52256090e-01]])"
      ]
     },
     "execution_count": 56,
     "metadata": {},
     "output_type": "execute_result"
    }
   ],
   "source": [
    "# Refazendo os valores das variáveis após a transformação \"onehot\", \"pca\"\n",
    "# O número de variáveis agora reduziu.\n",
    "\n",
    "model_pipeline[:-1].transform(x_train)"
   ]
  },
  {
   "cell_type": "code",
   "execution_count": 85,
   "id": "4906e2a7",
   "metadata": {},
   "outputs": [],
   "source": [
    "# agora vamos montar o grid do modelo random forest\n",
    "\n",
    "onehot = encoding.OneHotEncoder(variables=cat_features, drop_last_binary=True)\n",
    "\n",
    "pca = decomposition.PCA()\n",
    "\n",
    "model_rf = ensemble.RandomForestClassifier()\n",
    "\n",
    "model_pipeline = pipeline.Pipeline([[\"onehot\", onehot],\n",
    "                                    [\"pca\", pca],\n",
    "                                    [\"mode_RF\", model_rf]])\n",
    "\n",
    "params = {\"pca__n_components\":list(range(1,len(features)+1)),\n",
    "          \"mode_RF__n_estimators\":[100,200,300,600,700],\n",
    "          \"mode_RF__max_depth\":[5,7,10,15],\n",
    "          \"mode_RF__criterion\":[\"gini\", \"entropy\"]}\n",
    "\n",
    "grid_rf = model_selection.GridSearchCV(model_pipeline, params, n_jobs = -1, verbose = 2, cv=3)\n",
    "\n",
    "#grid_rf.fit(x_train, y_train)"
   ]
  },
  {
   "cell_type": "code",
   "execution_count": 86,
   "id": "5dac41b6",
   "metadata": {},
   "outputs": [
    {
     "name": "stdout",
     "output_type": "stream",
     "text": [
      "Fitting 3 folds for each of 72 candidates, totalling 216 fits\n"
     ]
    },
    {
     "data": {
      "text/plain": [
       "GridSearchCV(cv=3,\n",
       "             estimator=Pipeline(steps=[['onehot',\n",
       "                                        OneHotEncoder(drop_last_binary=True,\n",
       "                                                      variables=['color',\n",
       "                                                                 'clarity'])],\n",
       "                                       ['pca', PCA()],\n",
       "                                       ['mode_RF', RandomForestClassifier()]]),\n",
       "             n_jobs=-1,\n",
       "             param_grid={'mode_RF__criterion': ['gini', 'entropy'],\n",
       "                         'mode_RF__max_depth': [5, 7, 10],\n",
       "                         'mode_RF__n_estimators': [100, 200, 300, 700],\n",
       "                         'pca__n_components': [1, 2, 3]},\n",
       "             verbose=2)"
      ]
     },
     "execution_count": 86,
     "metadata": {},
     "output_type": "execute_result"
    }
   ],
   "source": [
    "# mesmo modelo random forest anterior mais simplificado para conseguir rodar.\n",
    "\n",
    "onehot = encoding.OneHotEncoder(variables=cat_features, drop_last_binary=True)\n",
    "\n",
    "pca = decomposition.PCA()\n",
    "\n",
    "model_rf = ensemble.RandomForestClassifier()\n",
    "\n",
    "model_pipeline = pipeline.Pipeline([[\"onehot\", onehot],\n",
    "                                    [\"pca\", pca],\n",
    "                                    [\"mode_RF\", model_rf]])\n",
    "\n",
    "params = {\"pca__n_components\":[1,2,3],\n",
    "          \"mode_RF__n_estimators\":[100,200,300,700],\n",
    "          \"mode_RF__max_depth\":[5,7,10],\n",
    "          \"mode_RF__criterion\":[\"gini\", \"entropy\"]}\n",
    "\n",
    "grid_rf = model_selection.GridSearchCV(model_pipeline, params, n_jobs = -1, verbose = 2, cv=3)\n",
    "\n",
    "grid_rf.fit(x_train, y_train)"
   ]
  },
  {
   "cell_type": "code",
   "execution_count": 82,
   "id": "519942b8",
   "metadata": {},
   "outputs": [
    {
     "data": {
      "text/plain": [
       "dict_keys(['cv', 'error_score', 'estimator__memory', 'estimator__steps', 'estimator__verbose', 'estimator__onehot', 'estimator__pca', 'estimator__mode_RF', 'estimator__onehot__drop_last', 'estimator__onehot__drop_last_binary', 'estimator__onehot__ignore_format', 'estimator__onehot__top_categories', 'estimator__onehot__variables', 'estimator__pca__copy', 'estimator__pca__iterated_power', 'estimator__pca__n_components', 'estimator__pca__random_state', 'estimator__pca__svd_solver', 'estimator__pca__tol', 'estimator__pca__whiten', 'estimator__mode_RF__bootstrap', 'estimator__mode_RF__ccp_alpha', 'estimator__mode_RF__class_weight', 'estimator__mode_RF__criterion', 'estimator__mode_RF__max_depth', 'estimator__mode_RF__max_features', 'estimator__mode_RF__max_leaf_nodes', 'estimator__mode_RF__max_samples', 'estimator__mode_RF__min_impurity_decrease', 'estimator__mode_RF__min_impurity_split', 'estimator__mode_RF__min_samples_leaf', 'estimator__mode_RF__min_samples_split', 'estimator__mode_RF__min_weight_fraction_leaf', 'estimator__mode_RF__n_estimators', 'estimator__mode_RF__n_jobs', 'estimator__mode_RF__oob_score', 'estimator__mode_RF__random_state', 'estimator__mode_RF__verbose', 'estimator__mode_RF__warm_start', 'estimator', 'n_jobs', 'param_grid', 'pre_dispatch', 'refit', 'return_train_score', 'scoring', 'verbose'])"
      ]
     },
     "execution_count": 82,
     "metadata": {},
     "output_type": "execute_result"
    }
   ],
   "source": [
    "# Estou colocando este comando para pegarem certinho o nome da chave de cada parâmetro.\n",
    "# qualquer erro, da xabu\n",
    "grid_rf.get_params().keys()"
   ]
  },
  {
   "cell_type": "code",
   "execution_count": 89,
   "id": "48b2b93f",
   "metadata": {},
   "outputs": [],
   "source": [
    "# agora vamos montar o grid do modelo tree\n",
    "\n",
    "onehot = encoding.OneHotEncoder(variables=cat_features, drop_last_binary=True)\n",
    "\n",
    "pca = decomposition.PCA()\n",
    "\n",
    "model_tree = ensemble.RandomForestClassifier()\n",
    "\n",
    "model_pipeline_tree = pipeline.Pipeline([[\"onehot\", onehot],\n",
    "                                    [\"pca\", pca],\n",
    "                                    [\"mode_tree\", model_rf]])\n",
    "\n",
    "params = {\"pca__n_components\":list(range(1,len(features)+1)),\n",
    "          \"mode_tree__max_depth\":[5,7,10,15],\n",
    "          \"mode_tree__criterion\":[\"gini\", \"entropy\"]}\n",
    "\n",
    "grid_tree = model_selection.GridSearchCV(model_pipeline, params, n_jobs = -1, verbose = 2, cv=3)\n",
    "\n",
    "#grid_tree.fit(x_train, y_train)"
   ]
  },
  {
   "cell_type": "code",
   "execution_count": 98,
   "id": "00e20275",
   "metadata": {},
   "outputs": [
    {
     "name": "stdout",
     "output_type": "stream",
     "text": [
      "Fitting 3 folds for each of 24 candidates, totalling 72 fits\n"
     ]
    },
    {
     "data": {
      "text/plain": [
       "GridSearchCV(cv=3,\n",
       "             estimator=Pipeline(steps=[['onehot',\n",
       "                                        OneHotEncoder(drop_last_binary=True,\n",
       "                                                      variables=['color',\n",
       "                                                                 'clarity'])],\n",
       "                                       ['pca', PCA()],\n",
       "                                       ['mode_tree',\n",
       "                                        DecisionTreeClassifier()]]),\n",
       "             n_jobs=-1,\n",
       "             param_grid={'mode_tree__criterion': ['gini', 'entropy'],\n",
       "                         'mode_tree__max_depth': [5, 7, 10, 15],\n",
       "                         'pca__n_components': [1, 2, 3]},\n",
       "             verbose=2)"
      ]
     },
     "execution_count": 98,
     "metadata": {},
     "output_type": "execute_result"
    }
   ],
   "source": [
    "# agora vamos montar o grid do modelo tree com parâmetros reduzidos\n",
    "\n",
    "onehot = encoding.OneHotEncoder(variables=cat_features, drop_last_binary=True)\n",
    "\n",
    "pca = decomposition.PCA()\n",
    "\n",
    "model_tree = tree.DecisionTreeClassifier()\n",
    "\n",
    "model_pipeline_tree = pipeline.Pipeline([[\"onehot\", onehot],\n",
    "                                    [\"pca\", pca],\n",
    "                                    [\"mode_tree\", model_tree]])\n",
    "\n",
    "params = {\"pca__n_components\":[1,2,3],\n",
    "          \"mode_tree__max_depth\":[5,7,10,15],\n",
    "          \"mode_tree__criterion\":[\"gini\", \"entropy\"]}\n",
    "\n",
    "grid_tree = model_selection.GridSearchCV(model_pipeline_tree, params, n_jobs = -1, verbose = 2, cv=3)\n",
    "\n",
    "grid_tree.fit(x_train, y_train)"
   ]
  },
  {
   "cell_type": "code",
   "execution_count": 99,
   "id": "a8d97488",
   "metadata": {},
   "outputs": [
    {
     "data": {
      "text/plain": [
       "dict_keys(['cv', 'error_score', 'estimator__memory', 'estimator__steps', 'estimator__verbose', 'estimator__onehot', 'estimator__pca', 'estimator__mode_tree', 'estimator__onehot__drop_last', 'estimator__onehot__drop_last_binary', 'estimator__onehot__ignore_format', 'estimator__onehot__top_categories', 'estimator__onehot__variables', 'estimator__pca__copy', 'estimator__pca__iterated_power', 'estimator__pca__n_components', 'estimator__pca__random_state', 'estimator__pca__svd_solver', 'estimator__pca__tol', 'estimator__pca__whiten', 'estimator__mode_tree__ccp_alpha', 'estimator__mode_tree__class_weight', 'estimator__mode_tree__criterion', 'estimator__mode_tree__max_depth', 'estimator__mode_tree__max_features', 'estimator__mode_tree__max_leaf_nodes', 'estimator__mode_tree__min_impurity_decrease', 'estimator__mode_tree__min_impurity_split', 'estimator__mode_tree__min_samples_leaf', 'estimator__mode_tree__min_samples_split', 'estimator__mode_tree__min_weight_fraction_leaf', 'estimator__mode_tree__random_state', 'estimator__mode_tree__splitter', 'estimator', 'n_jobs', 'param_grid', 'pre_dispatch', 'refit', 'return_train_score', 'scoring', 'verbose'])"
      ]
     },
     "execution_count": 99,
     "metadata": {},
     "output_type": "execute_result"
    }
   ],
   "source": [
    "# Estou colocando este comando para pegarem certinho o nome da chave de cada parâmetro.\n",
    "# qualquer erro, da xabu\n",
    "\n",
    "grid_tree.get_params().keys()"
   ]
  },
  {
   "cell_type": "code",
   "execution_count": 103,
   "id": "d3b306a7",
   "metadata": {},
   "outputs": [
    {
     "ename": "ValueError",
     "evalue": "multi_class must be in ('ovo', 'ovr')",
     "output_type": "error",
     "traceback": [
      "\u001b[1;31m---------------------------------------------------------------------------\u001b[0m",
      "\u001b[1;31mValueError\u001b[0m                                Traceback (most recent call last)",
      "\u001b[1;32m<ipython-input-103-eaacd20024a9>\u001b[0m in \u001b[0;36m<module>\u001b[1;34m\u001b[0m\n\u001b[0;32m      7\u001b[0m \u001b[0my_prob_tree\u001b[0m \u001b[1;33m=\u001b[0m \u001b[0mgrid_tree\u001b[0m\u001b[1;33m.\u001b[0m\u001b[0mpredict_proba\u001b[0m\u001b[1;33m(\u001b[0m\u001b[0mx_test\u001b[0m\u001b[1;33m)\u001b[0m\u001b[1;33m[\u001b[0m\u001b[1;33m:\u001b[0m\u001b[1;33m,\u001b[0m\u001b[1;36m1\u001b[0m\u001b[1;33m]\u001b[0m\u001b[1;33m\u001b[0m\u001b[1;33m\u001b[0m\u001b[0m\n\u001b[0;32m      8\u001b[0m \u001b[1;33m\u001b[0m\u001b[0m\n\u001b[1;32m----> 9\u001b[1;33m \u001b[0mprint\u001b[0m\u001b[1;33m(\u001b[0m\u001b[1;34m\"ROC curve RF: \"\u001b[0m\u001b[1;33m,\u001b[0m \u001b[0mmetrics\u001b[0m\u001b[1;33m.\u001b[0m\u001b[0mroc_auc_score\u001b[0m\u001b[1;33m(\u001b[0m\u001b[0my_test\u001b[0m\u001b[1;33m,\u001b[0m \u001b[0my_prob_rf\u001b[0m\u001b[1;33m)\u001b[0m\u001b[1;33m)\u001b[0m\u001b[1;33m\u001b[0m\u001b[1;33m\u001b[0m\u001b[0m\n\u001b[0m\u001b[0;32m     10\u001b[0m \u001b[0mprint\u001b[0m\u001b[1;33m(\u001b[0m\u001b[1;34m\"ROC curve Tree: \"\u001b[0m\u001b[1;33m,\u001b[0m \u001b[0mmetrics\u001b[0m\u001b[1;33m.\u001b[0m\u001b[0mroc_auc_score\u001b[0m\u001b[1;33m(\u001b[0m\u001b[0my_test\u001b[0m\u001b[1;33m,\u001b[0m \u001b[0my_prob_tree\u001b[0m\u001b[1;33m)\u001b[0m\u001b[1;33m)\u001b[0m\u001b[1;33m\u001b[0m\u001b[1;33m\u001b[0m\u001b[0m\n\u001b[0;32m     11\u001b[0m \u001b[1;33m\u001b[0m\u001b[0m\n",
      "\u001b[1;32m~\\anaconda3\\lib\\site-packages\\sklearn\\utils\\validation.py\u001b[0m in \u001b[0;36minner_f\u001b[1;34m(*args, **kwargs)\u001b[0m\n\u001b[0;32m     61\u001b[0m             \u001b[0mextra_args\u001b[0m \u001b[1;33m=\u001b[0m \u001b[0mlen\u001b[0m\u001b[1;33m(\u001b[0m\u001b[0margs\u001b[0m\u001b[1;33m)\u001b[0m \u001b[1;33m-\u001b[0m \u001b[0mlen\u001b[0m\u001b[1;33m(\u001b[0m\u001b[0mall_args\u001b[0m\u001b[1;33m)\u001b[0m\u001b[1;33m\u001b[0m\u001b[1;33m\u001b[0m\u001b[0m\n\u001b[0;32m     62\u001b[0m             \u001b[1;32mif\u001b[0m \u001b[0mextra_args\u001b[0m \u001b[1;33m<=\u001b[0m \u001b[1;36m0\u001b[0m\u001b[1;33m:\u001b[0m\u001b[1;33m\u001b[0m\u001b[1;33m\u001b[0m\u001b[0m\n\u001b[1;32m---> 63\u001b[1;33m                 \u001b[1;32mreturn\u001b[0m \u001b[0mf\u001b[0m\u001b[1;33m(\u001b[0m\u001b[1;33m*\u001b[0m\u001b[0margs\u001b[0m\u001b[1;33m,\u001b[0m \u001b[1;33m**\u001b[0m\u001b[0mkwargs\u001b[0m\u001b[1;33m)\u001b[0m\u001b[1;33m\u001b[0m\u001b[1;33m\u001b[0m\u001b[0m\n\u001b[0m\u001b[0;32m     64\u001b[0m \u001b[1;33m\u001b[0m\u001b[0m\n\u001b[0;32m     65\u001b[0m             \u001b[1;31m# extra_args > 0\u001b[0m\u001b[1;33m\u001b[0m\u001b[1;33m\u001b[0m\u001b[1;33m\u001b[0m\u001b[0m\n",
      "\u001b[1;32m~\\anaconda3\\lib\\site-packages\\sklearn\\metrics\\_ranking.py\u001b[0m in \u001b[0;36mroc_auc_score\u001b[1;34m(y_true, y_score, average, sample_weight, max_fpr, multi_class, labels)\u001b[0m\n\u001b[0;32m    534\u001b[0m                              \"instead\".format(max_fpr))\n\u001b[0;32m    535\u001b[0m         \u001b[1;32mif\u001b[0m \u001b[0mmulti_class\u001b[0m \u001b[1;33m==\u001b[0m \u001b[1;34m'raise'\u001b[0m\u001b[1;33m:\u001b[0m\u001b[1;33m\u001b[0m\u001b[1;33m\u001b[0m\u001b[0m\n\u001b[1;32m--> 536\u001b[1;33m             \u001b[1;32mraise\u001b[0m \u001b[0mValueError\u001b[0m\u001b[1;33m(\u001b[0m\u001b[1;34m\"multi_class must be in ('ovo', 'ovr')\"\u001b[0m\u001b[1;33m)\u001b[0m\u001b[1;33m\u001b[0m\u001b[1;33m\u001b[0m\u001b[0m\n\u001b[0m\u001b[0;32m    537\u001b[0m         return _multiclass_roc_auc_score(y_true, y_score, labels,\n\u001b[0;32m    538\u001b[0m                                          multi_class, average, sample_weight)\n",
      "\u001b[1;31mValueError\u001b[0m: multi_class must be in ('ovo', 'ovr')"
     ]
    }
   ],
   "source": [
    "# Comparar os modelos na base de teste\n",
    "\n",
    "y_pread_rf = grid_rf.predict(x_test)\n",
    "y_prob_rf = grid_rf.predict_proba(x_test)[:,1]\n",
    "\n",
    "y_pread_tree = grid_tree.predict(x_test)\n",
    "y_prob_tree = grid_tree.predict_proba(x_test)[:,1]\n",
    "\n",
    "print(\"ROC curve RF: \", metrics.roc_auc_score(y_test, y_prob_rf))\n",
    "print(\"ROC curve Tree: \", metrics.roc_auc_score(y_test, y_prob_tree))\n",
    "\n",
    "print(\"Accuracy RF: \", metrics.accuracy_score(y_test, y_prob_rf))\n",
    "print(\"Accuracy Tree: \", metrics.accuracy_score(y_test, y_prob_tree))\n",
    "\n",
    "# Deu xabu aqui, porque a base de dados é multiclasse"
   ]
  },
  {
   "cell_type": "code",
   "execution_count": 104,
   "id": "6571208c",
   "metadata": {},
   "outputs": [
    {
     "data": {
      "text/plain": [
       "5"
      ]
     },
     "execution_count": 104,
     "metadata": {},
     "output_type": "execute_result"
    }
   ],
   "source": [
    "# Verificando a quantidade de classes na base de treino\n",
    "# podemos verificar que tem 5 classes\n",
    "\n",
    "y_train.nunique()"
   ]
  },
  {
   "cell_type": "code",
   "execution_count": 116,
   "id": "2db848df",
   "metadata": {},
   "outputs": [
    {
     "data": {
      "text/plain": [
       "<AxesSubplot:title={'center':'ROC Curves'}, xlabel='False Positive Rate', ylabel='True Positive Rate'>"
      ]
     },
     "execution_count": 116,
     "metadata": {},
     "output_type": "execute_result"
    },
    {
     "data": {
      "image/png": "[encoded data removed]",
      "text/plain": [
       "<Figure size 432x288 with 1 Axes>"
      ]
     },
     "metadata": {
      "needs_background": "light"
     },
     "output_type": "display_data"
    },
    {
     "data": {
      "image/png": "[encoded data removed]",
      "text/plain": [
       "<Figure size 432x288 with 1 Axes>"
      ]
     },
     "metadata": {
      "needs_background": "light"
     },
     "output_type": "display_data"
    }
   ],
   "source": [
    "# Comparar os modelos na base de teste\n",
    "\n",
    "y_pread_rf = grid_rf.predict(x_test)\n",
    "y_prob_rf = grid_rf.predict_proba(x_test)\n",
    "\n",
    "y_pread_tree = grid_tree.predict(x_test)\n",
    "y_prob_tree = grid_tree.predict_proba(x_test)\n",
    "\n",
    "skplt.metrics.plot_roc(y_test, y_prob_rf)\n",
    "skplt.metrics.plot_roc(y_test, y_prob_tree)"
   ]
  },
  {
   "cell_type": "markdown",
   "id": "a3186dca",
   "metadata": {},
   "source": [
    "### Aprendizado!\n",
    "\n",
    "Regressão logística se dá melhor com variáveis binning do que com variáveis contínuas. Mas não é regra. Se há relação linear com y, usa normalmente a numérica, caso contrário, fica melhor categorizar as variáveis x."
   ]
  }
 ],
 "metadata": {
  "kernelspec": {
   "display_name": "Python 3",
   "language": "python",
   "name": "python3"
  },
  "language_info": {
   "codemirror_mode": {
    "name": "ipython",
    "version": 3
   },
   "file_extension": ".py",
   "mimetype": "text/x-python",
   "name": "python",
   "nbconvert_exporter": "python",
   "pygments_lexer": "ipython3",
   "version": "3.8.8"
  }
 },
 "nbformat": 4,
 "nbformat_minor": 5
}
